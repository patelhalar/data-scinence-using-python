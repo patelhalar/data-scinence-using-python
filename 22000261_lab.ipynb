{
 "cells": [
  {
   "cell_type": "code",
   "execution_count": 3,
   "metadata": {},
   "outputs": [
    {
     "name": "stdout",
     "output_type": "stream",
     "text": [
      "2401\n"
     ]
    }
   ],
   "source": [
    "# what is 7 to the power of 4\n",
    "a = 7 ** 4\n",
    "print(a)"
   ]
  },
  {
   "cell_type": "code",
   "execution_count": 2,
   "metadata": {},
   "outputs": [
    {
     "name": "stdout",
     "output_type": "stream",
     "text": [
      "['hi', 'there', 'sam!']\n"
     ]
    }
   ],
   "source": [
    "# split this string: s =\"Hi there sam!\" into a list\n",
    "s = \"hi there sam!\"\n",
    "word_list = s.split()\n",
    "print(word_list)\n",
    "\n"
   ]
  },
  {
   "cell_type": "code",
   "execution_count": 1,
   "metadata": {},
   "outputs": [
    {
     "name": "stdout",
     "output_type": "stream",
     "text": [
      "The diameter of Earth is 12742km\n"
     ]
    }
   ],
   "source": [
    "# Given the variables: planet = \"Earth\" diameter = 12742 Use .formate() to print  the following string: The diameter of Earth is 12742km\n",
    "planet = \"Earth\"\n",
    "diameter = 12742\n",
    "\n",
    "o_string = \"The diameter of {} is {}km\".format(planet, diameter)\n",
    "print(o_string)"
   ]
  },
  {
   "cell_type": "code",
   "execution_count": 5,
   "metadata": {},
   "outputs": [
    {
     "name": "stdout",
     "output_type": "stream",
     "text": [
      "['hello']\n"
     ]
    }
   ],
   "source": [
    "#Gien  this nested list, use indexing to grab the word \"hello\" \n",
    "# list=[1,2,[3,4],[5,[100,200,\"hello\"]],23,11],1,7]\n",
    "my_list = [1, 2, [3, 4], [5, [100, 200, ['hello']], 23, 11], 1, 7]\n",
    "a = my_list[3][1][2]\n",
    "print(a)"
   ]
  },
  {
   "cell_type": "code",
   "execution_count": 4,
   "metadata": {},
   "outputs": [
    {
     "name": "stdout",
     "output_type": "stream",
     "text": [
      "hello\n"
     ]
    }
   ],
   "source": [
    "#Given this nested dictionary grab the word  \"hello\". d={\"k1\":[1,2,3,{'tricy':['oh','man','inception',{'target':[1,2,3,'hello']}]}]}\n",
    "d={\"k1\":[1,2,3,{'tricy':['oh','man','inception',{'target':[1,2,3,'hello']}]}]}\n",
    "a=d['k1'][3]['tricy'][3]['target'][3]\n",
    "print(a)"
   ]
  },
  {
   "cell_type": "code",
   "execution_count": 1,
   "metadata": {},
   "outputs": [
    {
     "name": "stdout",
     "output_type": "stream",
     "text": [
      "domain.com\n"
     ]
    }
   ],
   "source": [
    "#Function to grab the emali website domain\n",
    "def grab(email):\n",
    "    return email.split('@')[1]\n",
    "\n",
    "email_address = \"user@domain.com\"\n",
    "domain = grab(email_address)\n",
    "print(domain)"
   ]
  },
  {
   "cell_type": "code",
   "execution_count": 2,
   "metadata": {},
   "outputs": [
    {
     "name": "stdout",
     "output_type": "stream",
     "text": [
      "True\n"
     ]
    }
   ],
   "source": [
    "#create a basic function that returns true if the world 'dog' is contained in the input string, \n",
    "#Don't worry about edge cases like a punctuation being attached to the word dog, but do account\n",
    "# for capitalization.: findDog('Is there a dog here?)\n",
    "\n",
    "def find(input):\n",
    "    return 'dog' in input.lower()\n",
    "\n",
    "a=\"Is there a dog here?\"\n",
    "print(find(a))"
   ]
  },
  {
   "cell_type": "code",
   "execution_count": null,
   "metadata": {},
   "outputs": [],
   "source": [
    "#q9"
   ]
  },
  {
   "cell_type": "code",
   "execution_count": null,
   "metadata": {},
   "outputs": [],
   "source": [
    "#10"
   ]
  },
  {
   "cell_type": "code",
   "execution_count": 13,
   "metadata": {},
   "outputs": [
    {
     "name": "stdout",
     "output_type": "stream",
     "text": [
      "Inside the  parameterised constructor\n",
      "These are BCA students\n"
     ]
    }
   ],
   "source": [
    "# sample  example for oop concepts\n",
    "class students:\n",
    "    course =\"BCA\"\n",
    "    def __init__(self):\n",
    "        print(\"inside default constructor\")\n",
    "     ##constructor\n",
    "    def __init__(self,name,s_id,mob):\n",
    "        self.name=name\n",
    "        self.s_id=s_id\n",
    "        self.mob=mob\n",
    "        print(\"Inside the  parameterised constructor\")\n",
    "    def display(self): ## method\n",
    "        print(self.name,\"'s id is\",self.s_id,\"and mobile number is \",self.mob)   \n",
    "\n",
    "## kiya=students()\n",
    "kiya=students(\"kiya\",112,9832044937)\n",
    "kiya.display ##method call\n",
    "print(\"These are\", students.course,\"students\") #class call\n",
    "\n",
    "\n"
   ]
  },
  {
   "cell_type": "code",
   "execution_count": 3,
   "metadata": {},
   "outputs": [
    {
     "name": "stdout",
     "output_type": "stream",
     "text": [
      "inside init\n",
      "1050.0\n",
      "DA 1739.9999999999998\n",
      "pf 285.0\n",
      "bonus: 1770.0\n",
      "net_salary 7275.0\n"
     ]
    }
   ],
   "source": [
    "class employees:\n",
    "    def __init__(self):\n",
    "       self.empid=input(\"Enter your id:\")\n",
    "       self.name=input(\"Enter your name:\")\n",
    "       self.salary=int(input(\"Enter your salary:\"))\n",
    "       self.number_of_exp=int(input(\"Enter your experience:\"))\n",
    "       self.hra=0\n",
    "       self.DA=0\n",
    "       self.pf=0\n",
    "       self.bonus=0\n",
    "       self.net_salary=0\n",
    "       print(\"inside init\")\n",
    "    def calhra(self):\n",
    "        self.hra = 0.35 * self.salary\n",
    "        print(self.hra)\n",
    "    def calDA(self):\n",
    "        self.DA = 0.58 * self.salary\n",
    "        print(\"DA\",self.DA)\n",
    "    def calpf(self):\n",
    "        self.pf = 0.095 * self.salary\n",
    "        print(\"pf\",self.pf)\n",
    "    def calbonus(self):\n",
    "        if self.number_of_exp >= 30:\n",
    "            self.bonus = 0.59 * self.salary\n",
    "            print(\"bonus:\",self.bonus)\n",
    "        elif self.number_of_exp >=23:\n",
    "            self.bonus = 0.51 * self.salary\n",
    "            print(\"bonus:\",self.bonus)\n",
    "        elif self.number_of_exp >=15:\n",
    "            self.bonus = 0.45 * self.salary\n",
    "            print(\"bonus:\",self.bonus)\n",
    "        elif self.number_of_exp >=7:\n",
    "            self.bonus = 0.33 * self.salary\n",
    "            print(\"bonus:\",self.bonus)\n",
    "        else:\n",
    "            self.bonus = 0.16 * self.salary  \n",
    "            print(\"bonus:\",self.bonus)\n",
    "\n",
    "    def calnetsalary(self):\n",
    "        self.net_salary = self.salary + self.DA + self.hra - self.pf + self.bonus\n",
    "        print(\"net_salary\",self.net_salary)\n",
    "keya=employees()\n",
    "keya.calhra()\n",
    "keya.calDA()\n",
    "keya.calpf()\n",
    "keya.calbonus()\n",
    "keya.calnetsalary()\n",
    "\n",
    "\n",
    "\n",
    "\n",
    "    \n",
    "\n",
    "\n"
   ]
  },
  {
   "cell_type": "code",
   "execution_count": 4,
   "metadata": {},
   "outputs": [
    {
     "name": "stdout",
     "output_type": "stream",
     "text": [
      "Resulting tuple: (17, 7)\n"
     ]
    }
   ],
   "source": [
    "\n",
    "n = int(input(\"Enter the number of elements: \"))\n",
    "numbers = []\n",
    "for i in range(n):\n",
    "    num = int(input(\"Enter a number: \"))\n",
    "    numbers.append(num)\n",
    "\n",
    "\n",
    "new_list = []\n",
    "for i in range(n // 2):\n",
    "    new_sum = numbers[i] + numbers[n - i - 1]\n",
    "    new_list.append(new_sum)\n",
    "\n",
    "\n",
    "new_list = list(set(new_list))\n",
    "\n",
    "new_tuple = tuple(new_list)\n",
    "print(\"Resulting tuple:\", new_tuple)\n",
    "\n",
    "\n",
    "\n"
   ]
  },
  {
   "cell_type": "code",
   "execution_count": 6,
   "metadata": {},
   "outputs": [
    {
     "name": "stdout",
     "output_type": "stream",
     "text": [
      "2\n",
      "4\n",
      "6\n",
      "6\n",
      "16\n",
      "24\n",
      "n2 is greater\n"
     ]
    }
   ],
   "source": [
    "class numbers:\n",
    "    def __init__(self, num=0):\n",
    "        self.num = num\n",
    "    def setnum(self,num):\n",
    "        self.num =  num\n",
    "    def getnum(self):\n",
    "        return self.num\n",
    "    def add(self,n2):\n",
    "        #n3= numbers(self.num + n2.num)\n",
    "        #return n3\n",
    "        return self.num  + n2.num\n",
    "    def power(self,n2):\n",
    "        return self.num ** n2.num\n",
    "    def concatenation(self,n2):\n",
    "        return  str(self.num) + str(n2.num) \n",
    "    def mx(self,n2):\n",
    "        if self.num>n2.num:\n",
    "            return \"n1 is greater\"\n",
    "        else:\n",
    "            return a,\"n2 is greater\"\n",
    "\n",
    "n1 = numbers() #call this in def function \n",
    "n1.setnum(2)\n",
    "print(n1.getnum())\n",
    "n2=numbers()\n",
    "n2.setnum(4)\n",
    "print(n2.getnum())\n",
    "print(n1.add(n2))\n",
    "#n3=n1.add(n2)\n",
    "#n3.getnum()\n",
    "print(n1.add(n2))\n",
    "print(n1.power(n2))\n",
    "print(n1.concatenation(n2))\n",
    "print(n1.mx(n2))\n"
   ]
  },
  {
   "cell_type": "code",
   "execution_count": 1,
   "metadata": {},
   "outputs": [
    {
     "name": "stdout",
     "output_type": "stream",
     "text": [
      "ID: 12345\n",
      "Name: Diksha\n",
      "Email: Diksha r@nuv.ac.in\n",
      "\n",
      "ID: 45667\n",
      "Name: Jiva\n",
      "Email: Jiva@nuv.ac.in\n",
      "\n",
      "ID: 16789\n",
      "Name: Ronit\n",
      "Email: Ronitd@nuv.ac.in\n",
      "\n",
      "ID: 69433\n",
      "Name: Heena\n",
      "Email: Heena@nuv.ac.in\n",
      "\n"
     ]
    }
   ],
   "source": [
    "data = [\n",
    "    (12345, \"Diksha\", \"Diksha r@nuv.ac.in\"),\n",
    "    (45667, \"Jiva\", \"Jiva@nuv.ac.in\"),\n",
    "    (16789, \"Ronit\", \"Ronitd@nuv.ac.in\"),\n",
    "    (69433, \"Heena\", \"Heena@nuv.ac.in\")\n",
    "]\n",
    "\n",
    "# Accessing elements of the data structure\n",
    "for item in data:\n",
    "    print(\"ID:\", item[0])\n",
    "    print(\"Name:\", item[1])\n",
    "    print(\"Email:\", item[2])\n",
    "    print()  # Empty line for separation\n"
   ]
  },
  {
   "cell_type": "code",
   "execution_count": 7,
   "metadata": {},
   "outputs": [
    {
     "name": "stdout",
     "output_type": "stream",
     "text": [
      "(69433, 'Heena', 'Heena@nuv.ac.in')\n"
     ]
    }
   ],
   "source": [
    "data = [\n",
    "    (12345, \"Diksha\", \"Diksha r@nuv.ac.in\"),\n",
    "    (45667, \"Jiva\", \"Jiva@nuv.ac.in\"),\n",
    "    (16789, \"Ronit\", \"Ronitd@nuv.ac.in\"),\n",
    "    (69433, \"Heena\", \"Heena@nuv.ac.in\")\n",
    "]\n",
    "sid=12345\n",
    "def ID():\n",
    "    sid=int(input(\"Enter any id:\"))\n",
    "    for  d in data :\n",
    "        #print(d)\n",
    "        if d[0]== sid:\n",
    "            print(d)\n",
    "result=ID()\n",
    "\n",
    "def name():\n",
    "    name=input(\"Enter name:\")\n",
    "    for  d in data :\n",
    "        #print(d)\n",
    "        if d[1]== sid:\n",
    "            print(d)\n",
    "result=name()\n",
    "\n"
   ]
  },
  {
   "cell_type": "code",
   "execution_count": 11,
   "metadata": {},
   "outputs": [
    {
     "name": "stdout",
     "output_type": "stream",
     "text": [
      "12345\n",
      "Diksha \n",
      "Diksha r@nuv.ac.in\n"
     ]
    }
   ],
   "source": [
    "Mydict ={\n",
    "\"Enrollment Id\" : [12345,45667,16789,69433],\n",
    "\"Student Name\": [\"Diksha \", \"Jiva\", \"Ronit\", \"Heena\"],\n",
    "\"Email Id \": [\"Diksha r@nuv.ac.in\", \"Jiva@nuv.ac.in\", \"Ronitd@nuv.ac.in\",\n",
    "\"Heena@nuv.ac.in\"]\n",
    "}\n",
    "Mydict[\"Enrollment Id\"][3]\n",
    "value=int(input(\"enter id:\"))\n",
    "for i in range(len(Mydict[\"Enrollment Id\"])): # for id input\n",
    "    if Mydict[\"Enrollment Id\"][i]==value:\n",
    "        print(Mydict[\"Enrollment Id\"][i])\n",
    "        print(Mydict[\"Student Name\"][i])\n",
    "        print(Mydict[\"Email Id \"][i])\n",
    "        "
   ]
  }
 ],
 "metadata": {
  "kernelspec": {
   "display_name": "Python 3",
   "language": "python",
   "name": "python3"
  },
  "language_info": {
   "codemirror_mode": {
    "name": "ipython",
    "version": 3
   },
   "file_extension": ".py",
   "mimetype": "text/x-python",
   "name": "python",
   "nbconvert_exporter": "python",
   "pygments_lexer": "ipython3",
   "version": "3.11.4"
  }
 },
 "nbformat": 4,
 "nbformat_minor": 2
}
